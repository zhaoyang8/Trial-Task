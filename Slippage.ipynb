{
  "cells": [
    {
      "cell_type": "markdown",
      "source": [
        "## **1. VWAP Optimal Execution Model Code**"
      ],
      "metadata": {
        "id": "37JvxUuUwXAg"
      }
    },
    {
      "cell_type": "code",
      "source": [
        "import pandas as pd\n",
        "import numpy as np\n",
        "import statsmodels.api as sm\n",
        "\n",
        "# Load the CSV file\n",
        "file_path = 'xnas-itch-20230703.tbbo.csv'\n",
        "data = pd.read_csv(file_path)\n",
        "\n",
        "# Convert ts_event to datetime and extract minute-level data\n",
        "data['ts_event'] = pd.to_datetime(data['ts_event'], unit='ns')\n",
        "data.set_index('ts_event', inplace=True)\n",
        "\n",
        "# Resample to minute-level data\n",
        "minute_data = data.resample('T').agg({\n",
        "    'price': 'mean',\n",
        "    'size': 'sum',\n",
        "    'bid_px_00': 'last',\n",
        "    'ask_px_00': 'last',\n",
        "    'bid_sz_00': 'last',\n",
        "    'ask_sz_00': 'last'\n",
        "}).dropna()\n",
        "\n",
        "# Calculate the VWAP for each minute\n",
        "minute_data['vwap'] = (minute_data['price'] * minute_data['size']).cumsum() / minute_data['size'].cumsum()\n",
        "\n",
        "# Calculate the total daily VWAP\n",
        "total_volume = minute_data['size'].sum()\n",
        "total_vwap = (minute_data['price'] * minute_data['size']).sum() / total_volume\n",
        "\n",
        "# Calculate the fractional bid-ask spread (s)\n",
        "minute_data['spread'] = minute_data['ask_px_00'] - minute_data['bid_px_00']\n",
        "minute_data['mid_price'] = (minute_data['ask_px_00'] + minute_data['bid_px_00']) / 2\n",
        "minute_data['fractional_spread'] = minute_data['spread'] / minute_data['mid_price']\n",
        "\n",
        "# Calculate the average fractional bid-ask spread\n",
        "s = minute_data['fractional_spread'].mean()\n",
        "\n",
        "# Estimate the proportionality factor (alpha)\n",
        "# Simplified approach: Regression of price change on volume\n",
        "minute_data['price_change'] = minute_data['price'].diff()\n",
        "minute_data['volume_ratio'] = minute_data['size'] / minute_data['size'].sum()\n",
        "\n",
        "# Drop the first row with NaN value from diff() operation\n",
        "minute_data = minute_data.dropna()\n",
        "\n",
        "# Prepare data for regression\n",
        "X = minute_data['volume_ratio']\n",
        "y = minute_data['price_change']\n",
        "X = sm.add_constant(X)  # Adds a constant term to the predictor\n",
        "\n",
        "# Fit the regression model\n",
        "model = sm.OLS(y, X).fit()\n",
        "alpha = model.params[1]  # The slope coefficient\n",
        "\n",
        "# Update the effective price calculation with new s and alpha\n",
        "minute_data['effective_price'] = minute_data['price'] * (1 - s/2 + alpha * s/2 * (minute_data['size'] / minute_data['size'].sum()))\n",
        "minute_data['slippage'] = (minute_data['effective_price'] - total_vwap) / total_vwap\n",
        "\n",
        "# Total slippage for the day with new parameters\n",
        "total_slippage = minute_data['slippage'].sum()\n",
        "\n",
        "# Print the first few rows and the total slippage\n",
        "minute_data[['price', 'size', 'vwap', 'effective_price', 'slippage']].head(), total_slippage\n"
      ],
      "metadata": {
        "colab": {
          "base_uri": "https://localhost:8080/"
        },
        "id": "7eKldoo1wqqE",
        "outputId": "75831826-678a-4756-dd84-e4bd8bce6a52"
      },
      "execution_count": 8,
      "outputs": [
        {
          "output_type": "execute_result",
          "data": {
            "text/plain": [
              "(                            price  size          vwap  effective_price  \\\n",
              " ts_event                                                                 \n",
              " 2023-07-03 08:01:00  1.942083e+11  1846  1.940841e+11    -2.865572e+12   \n",
              " 2023-07-03 08:02:00  1.941918e+11   305  1.940884e+11    -3.113241e+11   \n",
              " 2023-07-03 08:03:00  1.941738e+11   326  1.940920e+11    -3.460966e+11   \n",
              " 2023-07-03 08:04:00  1.941947e+11   795  1.941014e+11    -1.123451e+12   \n",
              " 2023-07-03 08:05:00  1.941519e+11   566  1.941045e+11    -7.437441e+11   \n",
              " \n",
              "                       slippage  \n",
              " ts_event                        \n",
              " 2023-07-03 08:01:00 -15.873604  \n",
              " 2023-07-03 08:02:00  -2.615912  \n",
              " 2023-07-03 08:03:00  -2.796397  \n",
              " 2023-07-03 08:04:00  -6.831216  \n",
              " 2023-07-03 08:05:00  -4.860366  ,\n",
              " -70504.22030060011)"
            ]
          },
          "metadata": {},
          "execution_count": 8
        }
      ]
    },
    {
      "cell_type": "markdown",
      "source": [
        "## **2. Kyle's model (extended)**"
      ],
      "metadata": {
        "id": "KbdiDurAWBMo"
      }
    },
    {
      "cell_type": "code",
      "source": [
        "# Convert timestamps to a more readable format\n",
        "data['ts_recv'] = pd.to_datetime(data['ts_recv'], unit='ns')\n",
        "data['ts_event'] = pd.to_datetime(data['ts_event'], unit='ns')\n",
        "\n",
        "# Calculate signed order flow\n",
        "data['signed_order_flow'] = np.where(data['side'] == 'B', data['size'], -data['size'])\n",
        "\n",
        "# Calculate price changes\n",
        "data['price_change'] = data['price'].diff()\n",
        "\n",
        "# Calculate time differences in seconds between consecutive events\n",
        "data['time_diff'] = data['ts_event'].diff().dt.total_seconds()\n",
        "\n",
        "# Drop NaN values resulting from the diff operations\n",
        "data = data.dropna(subset=['price_change', 'time_diff'])\n",
        "\n",
        "# Regress price changes on signed order flow to obtain Kyle’s lambda\n",
        "X = data['signed_order_flow']\n",
        "y = data['price_change']\n",
        "X = sm.add_constant(X)\n",
        "model = sm.OLS(y, X).fit()\n",
        "kyle_lambda = model.params[1]\n",
        "\n",
        "# Calculate volatility of the order flow\n",
        "data.loc[:, 'volatility'] = data['signed_order_flow'].rolling(window=100).std()\n",
        "\n",
        "# Drop NaN values resulting from rolling operation\n",
        "data = data.dropna(subset=['volatility'])\n",
        "\n",
        "# Calculate the execution cost with time differences\n",
        "data.loc[:, 'execution_cost'] = kyle_lambda * (data['volatility'] ** 2) * data['time_diff']\n",
        "total_execution_cost = data['execution_cost'].sum()\n",
        "\n",
        "total_execution_cost\n"
      ],
      "metadata": {
        "colab": {
          "base_uri": "https://localhost:8080/"
        },
        "id": "-zlTMl7swZp6",
        "outputId": "771ce3cd-3c71-4828-ab93-5611e4445781"
      },
      "execution_count": 6,
      "outputs": [
        {
          "output_type": "execute_result",
          "data": {
            "text/plain": [
              "-2614571472320.662"
            ]
          },
          "metadata": {},
          "execution_count": 6
        }
      ]
    }
  ],
  "metadata": {
    "kernelspec": {
      "display_name": "Blockhouse",
      "language": "python",
      "name": "python3"
    },
    "language_info": {
      "codemirror_mode": {
        "name": "ipython",
        "version": 3
      },
      "file_extension": ".py",
      "mimetype": "text/x-python",
      "name": "python",
      "nbconvert_exporter": "python",
      "pygments_lexer": "ipython3",
      "version": "3.12.2"
    },
    "colab": {
      "provenance": []
    }
  },
  "nbformat": 4,
  "nbformat_minor": 0
}